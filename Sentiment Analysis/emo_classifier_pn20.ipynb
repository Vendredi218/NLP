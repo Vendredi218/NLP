{
 "cells": [
  {
   "cell_type": "code",
   "execution_count": 1,
   "metadata": {
    "collapsed": false
   },
   "outputs": [
    {
     "name": "stderr",
     "output_type": "stream",
     "text": [
      "Using TensorFlow backend.\n",
      "Building prefix dict from the default dictionary ...\n",
      "Dumping model to file cache /tmp/jieba.cache\n",
      "Loading model cost 2.062 seconds.\n",
      "Prefix dict has been built succesfully.\n"
     ]
    },
    {
     "data": {
      "text/plain": [
       "<module 'sys' (built-in)>"
      ]
     },
     "execution_count": 1,
     "metadata": {},
     "output_type": "execute_result"
    }
   ],
   "source": [
    "import pandas as pd #导入Pandas\n",
    "import keras\n",
    "import os\n",
    "import numpy as np #导入Numpy\n",
    "import jieba #导入结巴分词\n",
    "jieba.enable_parallel(32)\n",
    "import logging\n",
    "import gensim\n",
    "import sys\n",
    "import time\n",
    "from imp import reload\n",
    "import matplotlib.pyplot as plt\n",
    "reload(sys)"
   ]
  },
  {
   "cell_type": "code",
   "execution_count": 2,
   "metadata": {
    "collapsed": true
   },
   "outputs": [],
   "source": [
    "from keras.preprocessing import sequence\n",
    "from keras.optimizers import SGD, RMSprop, Adagrad\n",
    "from keras.models import Sequential\n",
    "from keras.layers import Conv1D, GlobalMaxPooling1D, MaxPooling1D\n",
    "from keras.layers.core import Dense, Dropout, Activation, Flatten\n",
    "from keras.layers.embeddings import Embedding\n",
    "from keras.layers.recurrent import LSTM, GRU\n",
    "from keras.layers.wrappers import Bidirectional\n",
    "from keras import backend as K\n",
    "from keras import metrics\n",
    "from pickle import dump\n",
    "from collections import namedtuple"
   ]
  },
  {
   "cell_type": "code",
   "execution_count": 3,
   "metadata": {
    "collapsed": true
   },
   "outputs": [],
   "source": [
    "'''\n",
    "设定日志文件格式\n",
    "'''\n",
    "def get_logger(params):\n",
    "    if not os.path.isdir('log'):\n",
    "        os.mkdir('log')\n",
    "    logger = logging.getLogger(\"my_logger\")\n",
    "    logger.setLevel(logging.DEBUG)\n",
    "    # 建立一个filehandler来把日志记录在文件里，级别为debug以上\n",
    "    fh = logging.FileHandler('log/' + params.model_name + \"_train.log\")\n",
    "    fh.setLevel(logging.DEBUG)\n",
    "    # 建立一个streamhandler来把日志打在CMD窗口上，级别为info以上\n",
    "    ch = logging.StreamHandler()\n",
    "    ch.setLevel(logging.INFO)\n",
    "    # 设置日志格式\n",
    "    formatter = logging.Formatter('[%(levelname)-3s]%(asctime)s %(filename)s[line:%(lineno)d]:%(message)s')\n",
    "    ch.setFormatter(formatter)\n",
    "    fh.setFormatter(formatter)\n",
    "    #将相应的handler添加在logger对象中\n",
    "    logger.addHandler(ch)\n",
    "    logger.addHandler(fh)\n",
    "    return logger\n",
    "\n",
    "'''\n",
    "通过gensim加载预训练的word2vec模型\n",
    "'''\n",
    "def load_word2vec(model_path):\n",
    "    try:\n",
    "        wordvec_model = gensim.models.word2vec.Word2Vec.load(model_path)\n",
    "        wordvec_weight = wordvec_model.wv.syn0\n",
    "    except:\n",
    "        wordvec_model = ''\n",
    "        wordvec_weight = ''\n",
    "        print('Pretrained word2vec model not found, use fresh params...')\n",
    "    return wordvec_model, wordvec_weight\n",
    "'''\n",
    "转化情感标记\n",
    "'''\n",
    "def trans_emo(emo):\n",
    "#    trans_dict = dict(zip(['N', 'Y'], range(2)))\n",
    "    trans_dict = dict(zip(['none', 'disgust', 'like', 'happiness', 'sadness', 'surprise', 'anger', 'fear'], range(8)))\n",
    "    return trans_dict[emo]\n",
    "'''\n",
    "切分训练集和测试集\n",
    "'''\n",
    "Train_Set = namedtuple('Train_Set', 'x y xt yt xa ya')\n",
    "def split_data(train_data, params):\n",
    "    x = np.array(list(train_data['sent']))[::2] #训练集\n",
    "    y = np.array(list(train_data['mark']))[::2]\n",
    "    y = keras.utils.to_categorical(y, params.num_classes)\n",
    "    xt = np.array(list(train_data['sent']))[1::2] #测试集\n",
    "    yt = np.array(list(train_data['mark']))[1::2]\n",
    "    yt = keras.utils.to_categorical(yt, params.num_classes)\n",
    "    xa = np.array(list(train_data['sent'])) #全集\n",
    "    ya = np.array(list(train_data['mark']))\n",
    "    return Train_Set(x, y, xt, yt, xa, ya)"
   ]
  },
  {
   "cell_type": "code",
   "execution_count": 4,
   "metadata": {
    "collapsed": true
   },
   "outputs": [],
   "source": [
    "'''\n",
    "参数设置\n",
    "'''\n",
    "class Params():\n",
    "    def __init__(self, layer_type):\n",
    "        if layer_type not in ['lstm', 'bilstm', 'gru', 'mutate', 'cnn', 'ConvRnn']:\n",
    "            raise KeyError\n",
    "        self.num_classes = 2\n",
    "        self.maxlen = 20\n",
    "        self.batch_size = 16\n",
    "        self.epochs = 10\n",
    "        self.layer = layer_type\n",
    "        self.train_data_path = 'train_data/train_data.xlsx'\n",
    "        self.word2vec_path = '/home/yuangxue/word2vec_from_weixin/word2vec/word2vec_wx'\n",
    "        self.model_name = 'lstm_try'\n",
    "        self.embedding_train = False\n",
    "        self.thread = 16\n",
    "        self.dict_len = 0\n",
    "    def get_dict_len(self, dict_len):\n",
    "        self.dict_len = dict_len"
   ]
  },
  {
   "cell_type": "code",
   "execution_count": 5,
   "metadata": {
    "collapsed": true
   },
   "outputs": [],
   "source": [
    "'''\n",
    "训练数据预处理过程\n",
    "'''\n",
    "def preprocess_data(wordvec_model, params, logger):\n",
    "    if wordvec_model:\n",
    "        raw_data = pd.read_excel(params.train_data_path)\n",
    "        logger.info('Data loaded!')\n",
    "        data = pd.DataFrame({'sent' : raw_data.sentence,\n",
    "                             'mark' : raw_data.emotion_1 })\n",
    "        data['mark'] = data['mark'].apply(trans_emo)\n",
    "        logger.info('emotion_tag transformed!')\n",
    "        cw = lambda x: list(jieba.cut(str(x))) #定义分词函数\n",
    "        data['words'] = data['sent'].apply(cw)\n",
    "        vocab = dict([(k, v.index) for k, v in wordvec_model.wv.vocab.items()])\n",
    "        word_to_id = lambda word: not (vocab.get(word) is None) and vocab.get(word) or 0\n",
    "        words_to_ids = lambda words: list(map(word_to_id, words))\n",
    "        data['sent'] = data['words'].apply(words_to_ids)\n",
    "        reverse_seq = lambda id_seq: id_seq[::-1]\n",
    "        concat_seq = lambda a,b: list(np.hstack((a, b)))\n",
    "        logger.info(\"Pad sequences (samples x time)...\")\n",
    "        data['sent_rev'] = list(sequence.pad_sequences(data['sent'], maxlen=params.maxlen))\n",
    "        data['sent_rev'] = data['sent_rev'].apply(reverse_seq)\n",
    "        data['sent'] = list(sequence.pad_sequences(data['sent'], maxlen=params.maxlen, padding='post', truncating='post'))\n",
    "        data['sent'] = data['sent'].combine(data['sent_rev'], func=concat_seq)\n",
    "#        print('2:',data)\n",
    "    else:\n",
    "        raw_data = pd.read_excel(params.train_data_path)\n",
    "        logger.info('Data loaded!')\n",
    "        data = pd.DataFrame({'sent' : raw_data.sentence,\n",
    "                             'mark' : raw_data.emotion_1 })\n",
    "        data['mark'] = data['mark'].apply(trans_emo)\n",
    "        logger.info('emotion_tag transformed!')\n",
    "        cw = lambda x: list(jieba.cut(str(x))) #定义分词函数\n",
    "        data['words'] = data['sent'].apply(cw)\n",
    "        w = [] #将所有词语整合在一起\n",
    "        for i in data['words']:\n",
    "            w.extend(i)\n",
    "        dict_w = pd.DataFrame(pd.Series(w).value_counts()) #统计词的出现次数\n",
    "        dict_w['id']=list(range(1,len(dict_w)+1))\n",
    "        dump(dict_w, open('dict_w.pickle', 'wb'))\n",
    "        params.get_dict_len(len(dict_w)+1)\n",
    "        get_sent = lambda x: list(dict_w['id'][x])\n",
    "        data['sent'] = data['words'].apply(get_sent)\n",
    "        logger.info(\"Pad sequences (samples x time)...\")\n",
    "        data['sent'] = list(sequence.pad_sequences(data['sent'], maxlen=params.maxlen, padding='post', truncating='post'))\n",
    "    return data, params"
   ]
  },
  {
   "cell_type": "code",
   "execution_count": 6,
   "metadata": {
    "collapsed": true
   },
   "outputs": [],
   "source": [
    "'''\n",
    "构建keras模型\n",
    "'''\n",
    "def build_model(wordvec_weight, params, logger):\n",
    "    if wordvec_weight!='':\n",
    "        word_embedding_layer = Embedding(\n",
    "            input_dim=wordvec_weight.shape[0],\n",
    "            output_dim=wordvec_weight.shape[1],\n",
    "            weights=[wordvec_weight],\n",
    "            trainable=params.embedding_train)\n",
    "    else:\n",
    "        word_embedding_layer = Embedding(params.dict_len+1, 256)\n",
    "    logger.info('Build model...')\n",
    "    model = Sequential()\n",
    "    model.add(word_embedding_layer)\n",
    "    model.add(Dropout(0.1))\n",
    "    if params.layer=='lstm':\n",
    "        model.add(LSTM(128, return_sequences = False))\n",
    "    elif params.layer=='bilstm':\n",
    "        model.add(Bidirectional(LSTM(128, return_sequences = False))) \n",
    "    elif params.layer=='gru':\n",
    "        model.add(GRU(128, return_sequences = False))\n",
    "    elif params.layer=='cnn':\n",
    "        model.add(Conv1D(256,\n",
    "                         3,\n",
    "                         padding='valid',\n",
    "                         activation='relu',\n",
    "                         strides=1))\n",
    "        model.add(GlobalMaxPooling1D())\n",
    "        # model.add(MaxPooling1D(pool_size = 2))\n",
    "        # model.add(Flatten())\n",
    "        model.add(Dropout(0.5))\n",
    "        model.add(Dense(128))\n",
    "        model.add(Dropout(0.5))\n",
    "        model.add(Activation('relu'))\n",
    "    elif params.layer=='ConvRnn':\n",
    "        model.add(Conv1D(250,\n",
    "                         3,\n",
    "                         padding='valid',\n",
    "                         activation='relu',\n",
    "                         strides=1))\n",
    "        # we use max pooling:\n",
    "        model.add(MaxPooling1D(pool_size = 2))\n",
    "        model.add(Dropout(0.3))\n",
    "        model.add(LSTM(128))\n",
    "    else: # 采取自定义的模型结构\n",
    "        model.add(GRU(128, return_sequences = True))\n",
    "        model.add(Dropout(0.2))\n",
    "        model.add(GRU(64, return_sequences = False))\n",
    "    model.add(Dropout(0.5))\n",
    "    model.add(Dense(params.num_classes))\n",
    "    model.add(Activation('softmax'))\n",
    "    sgd = keras.optimizers.SGD(lr=0.0001, decay=1e-6, momentum=0.9, nesterov=True)\n",
    "    model.compile(loss='categorical_crossentropy', optimizer=sgd, metrics=[metrics.mae, metrics.categorical_accuracy])\n",
    "    return model"
   ]
  },
  {
   "cell_type": "code",
   "execution_count": 7,
   "metadata": {
    "collapsed": false,
    "scrolled": true
   },
   "outputs": [
    {
     "name": "stderr",
     "output_type": "stream",
     "text": [
      "[INFO]2017-10-16 17:54:51,504 <ipython-input-7-04a6d3601d19>[line:3]:try loading pretrained word2vec model...\n",
      "[INFO]2017-10-16 17:55:14,617 <ipython-input-5-f66ee8210fd1>[line:7]:Data loaded!\n",
      "[INFO]2017-10-16 17:55:15,013 <ipython-input-5-f66ee8210fd1>[line:11]:emotion_tag transformed!\n",
      "[INFO]2017-10-16 18:00:02,804 <ipython-input-5-f66ee8210fd1>[line:20]:Pad sequences (samples x time)...\n"
     ]
    },
    {
     "ename": "IndexError",
     "evalue": "index 2 is out of bounds for axis 1 with size 2",
     "output_type": "error",
     "traceback": [
      "\u001b[1;31m---------------------------------------------------------------------------\u001b[0m",
      "\u001b[1;31mIndexError\u001b[0m                                Traceback (most recent call last)",
      "\u001b[1;32m<ipython-input-7-04a6d3601d19>\u001b[0m in \u001b[0;36m<module>\u001b[1;34m()\u001b[0m\n\u001b[0;32m      4\u001b[0m \u001b[0mwordvec_model\u001b[0m\u001b[1;33m,\u001b[0m \u001b[0mwordvec_weight\u001b[0m \u001b[1;33m=\u001b[0m \u001b[0mload_word2vec\u001b[0m\u001b[1;33m(\u001b[0m\u001b[0mparams\u001b[0m\u001b[1;33m.\u001b[0m\u001b[0mword2vec_path\u001b[0m\u001b[1;33m)\u001b[0m\u001b[1;33m\u001b[0m\u001b[0m\n\u001b[0;32m      5\u001b[0m \u001b[0mdata_all\u001b[0m\u001b[1;33m,\u001b[0m \u001b[0mparams\u001b[0m \u001b[1;33m=\u001b[0m \u001b[0mpreprocess_data\u001b[0m\u001b[1;33m(\u001b[0m\u001b[0mwordvec_model\u001b[0m\u001b[1;33m,\u001b[0m \u001b[0mparams\u001b[0m\u001b[1;33m,\u001b[0m \u001b[0mlogger\u001b[0m\u001b[1;33m)\u001b[0m\u001b[1;33m\u001b[0m\u001b[0m\n\u001b[1;32m----> 6\u001b[1;33m \u001b[0mtrain_data\u001b[0m \u001b[1;33m=\u001b[0m \u001b[0msplit_data\u001b[0m\u001b[1;33m(\u001b[0m\u001b[0mdata_all\u001b[0m\u001b[1;33m,\u001b[0m \u001b[0mparams\u001b[0m\u001b[1;33m)\u001b[0m\u001b[1;33m\u001b[0m\u001b[0m\n\u001b[0m\u001b[0;32m      7\u001b[0m \u001b[0mmodel\u001b[0m \u001b[1;33m=\u001b[0m \u001b[0mbuild_model\u001b[0m\u001b[1;33m(\u001b[0m\u001b[0mwordvec_weight\u001b[0m\u001b[1;33m,\u001b[0m \u001b[0mparams\u001b[0m\u001b[1;33m,\u001b[0m \u001b[0mlogger\u001b[0m\u001b[1;33m)\u001b[0m\u001b[1;33m\u001b[0m\u001b[0m\n\u001b[0;32m      8\u001b[0m \u001b[0mmodel\u001b[0m\u001b[1;33m.\u001b[0m\u001b[0msummary\u001b[0m\u001b[1;33m(\u001b[0m\u001b[1;33m)\u001b[0m\u001b[1;33m\u001b[0m\u001b[0m\n",
      "\u001b[1;32m<ipython-input-3-74844b3e637b>\u001b[0m in \u001b[0;36msplit_data\u001b[1;34m(train_data, params)\u001b[0m\n\u001b[0;32m     48\u001b[0m     \u001b[0mx\u001b[0m \u001b[1;33m=\u001b[0m \u001b[0mnp\u001b[0m\u001b[1;33m.\u001b[0m\u001b[0marray\u001b[0m\u001b[1;33m(\u001b[0m\u001b[0mlist\u001b[0m\u001b[1;33m(\u001b[0m\u001b[0mtrain_data\u001b[0m\u001b[1;33m[\u001b[0m\u001b[1;34m'sent'\u001b[0m\u001b[1;33m]\u001b[0m\u001b[1;33m)\u001b[0m\u001b[1;33m)\u001b[0m\u001b[1;33m[\u001b[0m\u001b[1;33m:\u001b[0m\u001b[1;33m:\u001b[0m\u001b[1;36m2\u001b[0m\u001b[1;33m]\u001b[0m \u001b[1;31m#训练集\u001b[0m\u001b[1;33m\u001b[0m\u001b[0m\n\u001b[0;32m     49\u001b[0m     \u001b[0my\u001b[0m \u001b[1;33m=\u001b[0m \u001b[0mnp\u001b[0m\u001b[1;33m.\u001b[0m\u001b[0marray\u001b[0m\u001b[1;33m(\u001b[0m\u001b[0mlist\u001b[0m\u001b[1;33m(\u001b[0m\u001b[0mtrain_data\u001b[0m\u001b[1;33m[\u001b[0m\u001b[1;34m'mark'\u001b[0m\u001b[1;33m]\u001b[0m\u001b[1;33m)\u001b[0m\u001b[1;33m)\u001b[0m\u001b[1;33m[\u001b[0m\u001b[1;33m:\u001b[0m\u001b[1;33m:\u001b[0m\u001b[1;36m2\u001b[0m\u001b[1;33m]\u001b[0m\u001b[1;33m\u001b[0m\u001b[0m\n\u001b[1;32m---> 50\u001b[1;33m     \u001b[0my\u001b[0m \u001b[1;33m=\u001b[0m \u001b[0mkeras\u001b[0m\u001b[1;33m.\u001b[0m\u001b[0mutils\u001b[0m\u001b[1;33m.\u001b[0m\u001b[0mto_categorical\u001b[0m\u001b[1;33m(\u001b[0m\u001b[0my\u001b[0m\u001b[1;33m,\u001b[0m \u001b[0mparams\u001b[0m\u001b[1;33m.\u001b[0m\u001b[0mnum_classes\u001b[0m\u001b[1;33m)\u001b[0m\u001b[1;33m\u001b[0m\u001b[0m\n\u001b[0m\u001b[0;32m     51\u001b[0m     \u001b[0mxt\u001b[0m \u001b[1;33m=\u001b[0m \u001b[0mnp\u001b[0m\u001b[1;33m.\u001b[0m\u001b[0marray\u001b[0m\u001b[1;33m(\u001b[0m\u001b[0mlist\u001b[0m\u001b[1;33m(\u001b[0m\u001b[0mtrain_data\u001b[0m\u001b[1;33m[\u001b[0m\u001b[1;34m'sent'\u001b[0m\u001b[1;33m]\u001b[0m\u001b[1;33m)\u001b[0m\u001b[1;33m)\u001b[0m\u001b[1;33m[\u001b[0m\u001b[1;36m1\u001b[0m\u001b[1;33m:\u001b[0m\u001b[1;33m:\u001b[0m\u001b[1;36m2\u001b[0m\u001b[1;33m]\u001b[0m \u001b[1;31m#测试集\u001b[0m\u001b[1;33m\u001b[0m\u001b[0m\n\u001b[0;32m     52\u001b[0m     \u001b[0myt\u001b[0m \u001b[1;33m=\u001b[0m \u001b[0mnp\u001b[0m\u001b[1;33m.\u001b[0m\u001b[0marray\u001b[0m\u001b[1;33m(\u001b[0m\u001b[0mlist\u001b[0m\u001b[1;33m(\u001b[0m\u001b[0mtrain_data\u001b[0m\u001b[1;33m[\u001b[0m\u001b[1;34m'mark'\u001b[0m\u001b[1;33m]\u001b[0m\u001b[1;33m)\u001b[0m\u001b[1;33m)\u001b[0m\u001b[1;33m[\u001b[0m\u001b[1;36m1\u001b[0m\u001b[1;33m:\u001b[0m\u001b[1;33m:\u001b[0m\u001b[1;36m2\u001b[0m\u001b[1;33m]\u001b[0m\u001b[1;33m\u001b[0m\u001b[0m\n",
      "\u001b[1;32m/home/da/miniconda3/envs/idp3/lib/python3.5/site-packages/keras/utils/np_utils.py\u001b[0m in \u001b[0;36mto_categorical\u001b[1;34m(y, num_classes)\u001b[0m\n\u001b[0;32m     23\u001b[0m     \u001b[0mn\u001b[0m \u001b[1;33m=\u001b[0m \u001b[0my\u001b[0m\u001b[1;33m.\u001b[0m\u001b[0mshape\u001b[0m\u001b[1;33m[\u001b[0m\u001b[1;36m0\u001b[0m\u001b[1;33m]\u001b[0m\u001b[1;33m\u001b[0m\u001b[0m\n\u001b[0;32m     24\u001b[0m     \u001b[0mcategorical\u001b[0m \u001b[1;33m=\u001b[0m \u001b[0mnp\u001b[0m\u001b[1;33m.\u001b[0m\u001b[0mzeros\u001b[0m\u001b[1;33m(\u001b[0m\u001b[1;33m(\u001b[0m\u001b[0mn\u001b[0m\u001b[1;33m,\u001b[0m \u001b[0mnum_classes\u001b[0m\u001b[1;33m)\u001b[0m\u001b[1;33m)\u001b[0m\u001b[1;33m\u001b[0m\u001b[0m\n\u001b[1;32m---> 25\u001b[1;33m     \u001b[0mcategorical\u001b[0m\u001b[1;33m[\u001b[0m\u001b[0mnp\u001b[0m\u001b[1;33m.\u001b[0m\u001b[0marange\u001b[0m\u001b[1;33m(\u001b[0m\u001b[0mn\u001b[0m\u001b[1;33m)\u001b[0m\u001b[1;33m,\u001b[0m \u001b[0my\u001b[0m\u001b[1;33m]\u001b[0m \u001b[1;33m=\u001b[0m \u001b[1;36m1\u001b[0m\u001b[1;33m\u001b[0m\u001b[0m\n\u001b[0m\u001b[0;32m     26\u001b[0m     \u001b[1;32mreturn\u001b[0m \u001b[0mcategorical\u001b[0m\u001b[1;33m\u001b[0m\u001b[0m\n\u001b[0;32m     27\u001b[0m \u001b[1;33m\u001b[0m\u001b[0m\n",
      "\u001b[1;31mIndexError\u001b[0m: index 2 is out of bounds for axis 1 with size 2"
     ]
    }
   ],
   "source": [
    "params = Params('lstm')\n",
    "logger = get_logger(params)\n",
    "logger.info('try loading pretrained word2vec model...')\n",
    "wordvec_model, wordvec_weight = load_word2vec(params.word2vec_path)\n",
    "data_all, params = preprocess_data(wordvec_model, params, logger)\n",
    "train_data = split_data(data_all, params)\n",
    "model = build_model(wordvec_weight, params, logger)\n",
    "model.summary()"
   ]
  },
  {
   "cell_type": "code",
   "execution_count": 9,
   "metadata": {
    "collapsed": false,
    "scrolled": true
   },
   "outputs": [
    {
     "name": "stdout",
     "output_type": "stream",
     "text": [
      "Train on 1708 samples, validate on 1708 samples\n",
      "Epoch 1/50\n",
      "1708/1708 [==============================] - 8s - loss: 0.6726 - mean_absolute_error: 0.4854 - categorical_accuracy: 0.6183 - val_loss: 0.6626 - val_mean_absolute_error: 0.4796 - val_categorical_accuracy: 0.6475\n",
      "Epoch 2/50\n",
      "1708/1708 [==============================] - 6s - loss: 0.6651 - mean_absolute_error: 0.4778 - categorical_accuracy: 0.6335 - val_loss: 0.6569 - val_mean_absolute_error: 0.4732 - val_categorical_accuracy: 0.6470\n",
      "Epoch 3/50\n",
      "1708/1708 [==============================] - 6s - loss: 0.6625 - mean_absolute_error: 0.4735 - categorical_accuracy: 0.6352 - val_loss: 0.6542 - val_mean_absolute_error: 0.4689 - val_categorical_accuracy: 0.6470\n",
      "Epoch 4/50\n",
      "1708/1708 [==============================] - 7s - loss: 0.6634 - mean_absolute_error: 0.4721 - categorical_accuracy: 0.6347 - val_loss: 0.6531 - val_mean_absolute_error: 0.4669 - val_categorical_accuracy: 0.6470\n",
      "Epoch 5/50\n",
      "1708/1708 [==============================] - 6s - loss: 0.6614 - mean_absolute_error: 0.4690 - categorical_accuracy: 0.6358 - val_loss: 0.6524 - val_mean_absolute_error: 0.4654 - val_categorical_accuracy: 0.6470\n",
      "Epoch 6/50\n",
      "1708/1708 [==============================] - 6s - loss: 0.6578 - mean_absolute_error: 0.4660 - categorical_accuracy: 0.6352 - val_loss: 0.6518 - val_mean_absolute_error: 0.4638 - val_categorical_accuracy: 0.6470\n",
      "Epoch 7/50\n",
      "1708/1708 [==============================] - 4s - loss: 0.6580 - mean_absolute_error: 0.4665 - categorical_accuracy: 0.6352 - val_loss: 0.6514 - val_mean_absolute_error: 0.4632 - val_categorical_accuracy: 0.6470\n",
      "Epoch 8/50\n",
      "1708/1708 [==============================] - 4s - loss: 0.6629 - mean_absolute_error: 0.4677 - categorical_accuracy: 0.6370 - val_loss: 0.6511 - val_mean_absolute_error: 0.4625 - val_categorical_accuracy: 0.6470\n",
      "Epoch 9/50\n",
      "1708/1708 [==============================] - 7s - loss: 0.6584 - mean_absolute_error: 0.4649 - categorical_accuracy: 0.6358 - val_loss: 0.6508 - val_mean_absolute_error: 0.4620 - val_categorical_accuracy: 0.6470\n",
      "Epoch 10/50\n",
      "1708/1708 [==============================] - 6s - loss: 0.6575 - mean_absolute_error: 0.4643 - categorical_accuracy: 0.6358 - val_loss: 0.6506 - val_mean_absolute_error: 0.4615 - val_categorical_accuracy: 0.6470\n",
      "Epoch 11/50\n",
      "1708/1708 [==============================] - 6s - loss: 0.6604 - mean_absolute_error: 0.4657 - categorical_accuracy: 0.6352 - val_loss: 0.6504 - val_mean_absolute_error: 0.4614 - val_categorical_accuracy: 0.6470\n",
      "Epoch 12/50\n",
      "1708/1708 [==============================] - 6s - loss: 0.6597 - mean_absolute_error: 0.4643 - categorical_accuracy: 0.6358 - val_loss: 0.6503 - val_mean_absolute_error: 0.4612 - val_categorical_accuracy: 0.6470\n",
      "Epoch 13/50\n",
      "1708/1708 [==============================] - 6s - loss: 0.6574 - mean_absolute_error: 0.4640 - categorical_accuracy: 0.6352 - val_loss: 0.6501 - val_mean_absolute_error: 0.4609 - val_categorical_accuracy: 0.6470\n",
      "Epoch 14/50\n",
      "1708/1708 [==============================] - 6s - loss: 0.6588 - mean_absolute_error: 0.4643 - categorical_accuracy: 0.6364 - val_loss: 0.6499 - val_mean_absolute_error: 0.4609 - val_categorical_accuracy: 0.6470\n",
      "Epoch 15/50\n",
      "1708/1708 [==============================] - 6s - loss: 0.6583 - mean_absolute_error: 0.4644 - categorical_accuracy: 0.6358 - val_loss: 0.6498 - val_mean_absolute_error: 0.4609 - val_categorical_accuracy: 0.6470\n",
      "Epoch 16/50\n",
      "1708/1708 [==============================] - 7s - loss: 0.6544 - mean_absolute_error: 0.4625 - categorical_accuracy: 0.6358 - val_loss: 0.6495 - val_mean_absolute_error: 0.4604 - val_categorical_accuracy: 0.6470\n",
      "Epoch 17/50\n",
      "1708/1708 [==============================] - 6s - loss: 0.6594 - mean_absolute_error: 0.4645 - categorical_accuracy: 0.6352 - val_loss: 0.6495 - val_mean_absolute_error: 0.4610 - val_categorical_accuracy: 0.6470\n",
      "Epoch 18/50\n",
      "1708/1708 [==============================] - 7s - loss: 0.6594 - mean_absolute_error: 0.4649 - categorical_accuracy: 0.6352 - val_loss: 0.6493 - val_mean_absolute_error: 0.4609 - val_categorical_accuracy: 0.6470\n",
      "Epoch 19/50\n",
      "1708/1708 [==============================] - 5s - loss: 0.6585 - mean_absolute_error: 0.4643 - categorical_accuracy: 0.6358 - val_loss: 0.6492 - val_mean_absolute_error: 0.4610 - val_categorical_accuracy: 0.6470\n",
      "Epoch 20/50\n",
      "1708/1708 [==============================] - 6s - loss: 0.6568 - mean_absolute_error: 0.4637 - categorical_accuracy: 0.6358 - val_loss: 0.6491 - val_mean_absolute_error: 0.4609 - val_categorical_accuracy: 0.6470\n",
      "Epoch 21/50\n",
      "1708/1708 [==============================] - 6s - loss: 0.6572 - mean_absolute_error: 0.4639 - categorical_accuracy: 0.6364 - val_loss: 0.6489 - val_mean_absolute_error: 0.4608 - val_categorical_accuracy: 0.6470\n",
      "Epoch 22/50\n",
      "1708/1708 [==============================] - 6s - loss: 0.6546 - mean_absolute_error: 0.4627 - categorical_accuracy: 0.6358 - val_loss: 0.6487 - val_mean_absolute_error: 0.4605 - val_categorical_accuracy: 0.6470\n",
      "Epoch 23/50\n",
      "1708/1708 [==============================] - 7s - loss: 0.6579 - mean_absolute_error: 0.4639 - categorical_accuracy: 0.6358 - val_loss: 0.6485 - val_mean_absolute_error: 0.4600 - val_categorical_accuracy: 0.6470\n",
      "Epoch 24/50\n",
      "1708/1708 [==============================] - 6s - loss: 0.6563 - mean_absolute_error: 0.4635 - categorical_accuracy: 0.6364 - val_loss: 0.6484 - val_mean_absolute_error: 0.4599 - val_categorical_accuracy: 0.6470\n",
      "Epoch 25/50\n",
      "1708/1708 [==============================] - 6s - loss: 0.6532 - mean_absolute_error: 0.4622 - categorical_accuracy: 0.6358 - val_loss: 0.6482 - val_mean_absolute_error: 0.4596 - val_categorical_accuracy: 0.6470\n",
      "Epoch 26/50\n",
      "1708/1708 [==============================] - 6s - loss: 0.6572 - mean_absolute_error: 0.4639 - categorical_accuracy: 0.6358 - val_loss: 0.6481 - val_mean_absolute_error: 0.4595 - val_categorical_accuracy: 0.6470\n",
      "Epoch 27/50\n",
      "1708/1708 [==============================] - 6s - loss: 0.6570 - mean_absolute_error: 0.4634 - categorical_accuracy: 0.6358 - val_loss: 0.6480 - val_mean_absolute_error: 0.4593 - val_categorical_accuracy: 0.6470\n",
      "Epoch 28/50\n",
      "1708/1708 [==============================] - 6s - loss: 0.6561 - mean_absolute_error: 0.4624 - categorical_accuracy: 0.6358 - val_loss: 0.6478 - val_mean_absolute_error: 0.4593 - val_categorical_accuracy: 0.6470\n",
      "Epoch 29/50\n",
      "1708/1708 [==============================] - 6s - loss: 0.6581 - mean_absolute_error: 0.4634 - categorical_accuracy: 0.6358 - val_loss: 0.6478 - val_mean_absolute_error: 0.4597 - val_categorical_accuracy: 0.6470\n",
      "Epoch 30/50\n",
      "1708/1708 [==============================] - 6s - loss: 0.6572 - mean_absolute_error: 0.4643 - categorical_accuracy: 0.6352 - val_loss: 0.6477 - val_mean_absolute_error: 0.4599 - val_categorical_accuracy: 0.6470\n",
      "Epoch 31/50\n",
      "1708/1708 [==============================] - 6s - loss: 0.6557 - mean_absolute_error: 0.4637 - categorical_accuracy: 0.6358 - val_loss: 0.6476 - val_mean_absolute_error: 0.4600 - val_categorical_accuracy: 0.6470\n",
      "Epoch 32/50\n",
      "1708/1708 [==============================] - 7s - loss: 0.6575 - mean_absolute_error: 0.4639 - categorical_accuracy: 0.6358 - val_loss: 0.6474 - val_mean_absolute_error: 0.4596 - val_categorical_accuracy: 0.6470\n",
      "Epoch 33/50\n",
      "1708/1708 [==============================] - 7s - loss: 0.6553 - mean_absolute_error: 0.4625 - categorical_accuracy: 0.6358 - val_loss: 0.6473 - val_mean_absolute_error: 0.4593 - val_categorical_accuracy: 0.6470\n",
      "Epoch 34/50\n",
      "1708/1708 [==============================] - 7s - loss: 0.6534 - mean_absolute_error: 0.4613 - categorical_accuracy: 0.6358 - val_loss: 0.6472 - val_mean_absolute_error: 0.4591 - val_categorical_accuracy: 0.6470\n",
      "Epoch 35/50\n",
      "1708/1708 [==============================] - 7s - loss: 0.6586 - mean_absolute_error: 0.4643 - categorical_accuracy: 0.6358 - val_loss: 0.6471 - val_mean_absolute_error: 0.4590 - val_categorical_accuracy: 0.6470\n",
      "Epoch 36/50\n",
      "1708/1708 [==============================] - 8s - loss: 0.6566 - mean_absolute_error: 0.4627 - categorical_accuracy: 0.6358 - val_loss: 0.6469 - val_mean_absolute_error: 0.4590 - val_categorical_accuracy: 0.6470\n",
      "Epoch 37/50\n",
      "1708/1708 [==============================] - 7s - loss: 0.6556 - mean_absolute_error: 0.4637 - categorical_accuracy: 0.6358 - val_loss: 0.6470 - val_mean_absolute_error: 0.4597 - val_categorical_accuracy: 0.6470\n",
      "Epoch 38/50\n",
      "1708/1708 [==============================] - 7s - loss: 0.6570 - mean_absolute_error: 0.4632 - categorical_accuracy: 0.6358 - val_loss: 0.6468 - val_mean_absolute_error: 0.4593 - val_categorical_accuracy: 0.6470\n",
      "Epoch 39/50\n",
      "1708/1708 [==============================] - 7s - loss: 0.6569 - mean_absolute_error: 0.4637 - categorical_accuracy: 0.6358 - val_loss: 0.6467 - val_mean_absolute_error: 0.4593 - val_categorical_accuracy: 0.6470\n",
      "Epoch 40/50\n",
      "1708/1708 [==============================] - 7s - loss: 0.6591 - mean_absolute_error: 0.4643 - categorical_accuracy: 0.6358 - val_loss: 0.6466 - val_mean_absolute_error: 0.4590 - val_categorical_accuracy: 0.6470\n",
      "Epoch 41/50\n",
      "1708/1708 [==============================] - 6s - loss: 0.6541 - mean_absolute_error: 0.4621 - categorical_accuracy: 0.6358 - val_loss: 0.6465 - val_mean_absolute_error: 0.4590 - val_categorical_accuracy: 0.6470\n",
      "Epoch 42/50\n",
      "1708/1708 [==============================] - 7s - loss: 0.6541 - mean_absolute_error: 0.4617 - categorical_accuracy: 0.6358 - val_loss: 0.6464 - val_mean_absolute_error: 0.4588 - val_categorical_accuracy: 0.6470\n",
      "Epoch 43/50\n",
      "1708/1708 [==============================] - 6s - loss: 0.6564 - mean_absolute_error: 0.4630 - categorical_accuracy: 0.6358 - val_loss: 0.6463 - val_mean_absolute_error: 0.4588 - val_categorical_accuracy: 0.6470\n",
      "Epoch 44/50\n",
      "1708/1708 [==============================] - 6s - loss: 0.6565 - mean_absolute_error: 0.4633 - categorical_accuracy: 0.6358 - val_loss: 0.6462 - val_mean_absolute_error: 0.4591 - val_categorical_accuracy: 0.6470\n",
      "Epoch 45/50\n",
      "1708/1708 [==============================] - 6s - loss: 0.6580 - mean_absolute_error: 0.4637 - categorical_accuracy: 0.6358 - val_loss: 0.6461 - val_mean_absolute_error: 0.4589 - val_categorical_accuracy: 0.6470\n",
      "Epoch 46/50\n",
      "1708/1708 [==============================] - 6s - loss: 0.6567 - mean_absolute_error: 0.4637 - categorical_accuracy: 0.6358 - val_loss: 0.6460 - val_mean_absolute_error: 0.4590 - val_categorical_accuracy: 0.6470\n",
      "Epoch 47/50\n",
      "1708/1708 [==============================] - 6s - loss: 0.6573 - mean_absolute_error: 0.4640 - categorical_accuracy: 0.6358 - val_loss: 0.6460 - val_mean_absolute_error: 0.4591 - val_categorical_accuracy: 0.6470\n",
      "Epoch 48/50\n",
      "1708/1708 [==============================] - 7s - loss: 0.6545 - mean_absolute_error: 0.4627 - categorical_accuracy: 0.6358 - val_loss: 0.6458 - val_mean_absolute_error: 0.4589 - val_categorical_accuracy: 0.6470\n",
      "Epoch 49/50\n",
      "1708/1708 [==============================] - 7s - loss: 0.6538 - mean_absolute_error: 0.4623 - categorical_accuracy: 0.6358 - val_loss: 0.6457 - val_mean_absolute_error: 0.4588 - val_categorical_accuracy: 0.6470\n",
      "Epoch 50/50\n",
      "1708/1708 [==============================] - 6s - loss: 0.6521 - mean_absolute_error: 0.4603 - categorical_accuracy: 0.6358 - val_loss: 0.6456 - val_mean_absolute_error: 0.4582 - val_categorical_accuracy: 0.6470\n"
     ]
    }
   ],
   "source": [
    "history = model.fit(train_data.x, train_data.y, batch_size=params.batch_size, epochs=params.epochs, validation_data=(train_data.xt, train_data.yt))"
   ]
  },
  {
   "cell_type": "code",
   "execution_count": 10,
   "metadata": {
    "collapsed": false
   },
   "outputs": [
    {
     "name": "stdout",
     "output_type": "stream",
     "text": [
      "Test loss: 0.645564361395\n",
      "Test accuracy: 0.646955503443\n",
      "[0.64556436139470796, 0.45818181967567784, 0.64695550344308594]\n"
     ]
    }
   ],
   "source": [
    "score = model.evaluate(train_data.xt, train_data.yt, verbose=0)\n",
    "print('Test loss:', score[0])\n",
    "print('Test accuracy:', score[2])\n",
    "print(score)"
   ]
  },
  {
   "cell_type": "code",
   "execution_count": 11,
   "metadata": {
    "collapsed": false,
    "scrolled": false
   },
   "outputs": [
    {
     "name": "stdout",
     "output_type": "stream",
     "text": [
      "dict_keys(['val_categorical_accuracy', 'mean_absolute_error', 'loss', 'val_mean_absolute_error', 'val_loss', 'categorical_accuracy'])\n"
     ]
    },
    {
     "data": {
      "image/png": "[encoded data removed]",
      "text/plain": [
       "<matplotlib.figure.Figure at 0x7f86981b8fd0>"
      ]
     },
     "metadata": {},
     "output_type": "display_data"
    },
    {
     "data": {
      "image/png": "[encoded data removed]",
      "text/plain": [
       "<matplotlib.figure.Figure at 0x7f86981ddeb8>"
      ]
     },
     "metadata": {},
     "output_type": "display_data"
    }
   ],
   "source": [
    "# list all data in history\n",
    "print(history.history.keys())\n",
    "# summarize history for accuracy\n",
    "plt.plot(history.history['categorical_accuracy'])\n",
    "plt.plot(history.history['val_categorical_accuracy'])\n",
    "plt.title('model accuracy')\n",
    "plt.ylabel('accuracy')\n",
    "plt.xlabel('epoch')\n",
    "plt.legend(['train', 'test'], loc='upper left')\n",
    "plt.show()\n",
    "# summarize history for loss\n",
    "plt.plot(history.history['loss'])\n",
    "plt.plot(history.history['val_loss'])\n",
    "plt.title('model loss')\n",
    "plt.ylabel('loss')\n",
    "plt.xlabel('epoch')\n",
    "plt.legend(['train', 'test'], loc='upper left')\n",
    "plt.show()"
   ]
  },
  {
   "cell_type": "code",
   "execution_count": null,
   "metadata": {
    "collapsed": true
   },
   "outputs": [],
   "source": []
  }
 ],
 "metadata": {
  "kernelspec": {
   "display_name": "Python 3",
   "language": "python",
   "name": "python3"
  },
  "language_info": {
   "codemirror_mode": {
    "name": "ipython",
    "version": 3
   },
   "file_extension": ".py",
   "mimetype": "text/x-python",
   "name": "python",
   "nbconvert_exporter": "python",
   "pygments_lexer": "ipython3",
   "version": "3.5.2"
  }
 },
 "nbformat": 4,
 "nbformat_minor": 1
}
